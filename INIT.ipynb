{
 "cells": [
  {
   "cell_type": "markdown",
   "source": [
    "#  Bloco init\n",
    "\n",
    "#### Em Kotlin, você pode criar uma classe com um bloco de inicialização usando a palavra-chave init. O bloco init é executado assim que uma instância da classe é criada.\n"
   ],
   "metadata": {
    "collapsed": false
   }
  },
  {
   "cell_type": "code",
   "outputs": [],
   "source": [
    "class MinhaClasse {\n",
    "    // Propriedades da classe\n",
    "    var nome: String\n",
    "    var idade: Int\n",
    "\n",
    "    // Bloco de inicialização\n",
    "    init {\n",
    "        nome = \"João\"\n",
    "        idade = 30\n",
    "        println(\"Objeto da classe MinhaClasse foi criado com nome $nome e idade $idade\") // Objeto da classe MinhaClasse foi criado com nome João e idade 30\n",
    "    }\n",
    "\n",
    "    // Função da classe\n",
    "    fun mostrarInfo() {\n",
    "        println(\"Nome: $nome, Idade: $idade\") // Nome: João, Idade: 30\n",
    "    }\n",
    "}\n",
    "\n",
    "fun main() {\n",
    "    val objeto = MinhaClasse() // Objeto da classe MinhaClasse foi criado com nome João e idade 30\n",
    "    objeto.mostrarInfo() // Nome: João, Idade: 30\n",
    "}"
   ],
   "metadata": {
    "collapsed": false
   }
  },
  {
   "cell_type": "markdown",
   "source": [
    "Objeto da classe MinhaClasse foi criado com nome João e idade 30\n",
    "Nome: João, Idade: 30"
   ],
   "metadata": {
    "collapsed": false
   }
  },
  {
   "cell_type": "markdown",
   "source": [
    "\n",
    "#### O bloco init em Kotlin é uma maneira de executar código de inicialização quando uma instância de uma classe é criada. Ele é útil para executar lógica de inicialização que precisa ser realizada assim que o objeto é criado, antes que qualquer outra operação seja realizada nele."
   ],
   "metadata": {
    "collapsed": false
   }
  },
  {
   "cell_type": "markdown",
   "source": [
    "### Algumas características importantes do bloco init:\n",
    "\n",
    "1. Executado automaticamente: O bloco init é executado automaticamente assim que uma instância da classe é criada. Você não precisa chamá-lo explicitamente."
   ],
   "metadata": {
    "collapsed": false
   }
  },
  {
   "cell_type": "code",
   "outputs": [],
   "source": [
    "class ExemploClasse {\n",
    "    init {\n",
    "        println(\"Bloco init foi executado automaticamente!\")\n",
    "    }\n",
    "}\n",
    "\n",
    "fun main() {\n",
    "    val exemplo = ExemploClasse() // Ao criar uma instância da classe, o bloco init é executado automaticamente\n",
    "}"
   ],
   "metadata": {
    "collapsed": false
   }
  },
  {
   "cell_type": "markdown",
   "source": [
    "2. Acesso a propriedades e métodos da classe: Dentro do bloco init, você tem acesso total às propriedades e métodos da classe, pois ele faz parte do contexto da classe."
   ],
   "metadata": {
    "collapsed": false
   }
  },
  {
   "cell_type": "code",
   "outputs": [],
   "source": [
    "class Pessoa(val nome: String, val idade: Int) {\n",
    "    init {\n",
    "        println(\"Inicializando pessoa com nome $nome e idade $idade\") // Inicializando pessoa com nome Maria e idade 30\n",
    "        saudacao() // Chamando um método da classe dentro do bloco init\n",
    "    }\n",
    "\n",
    "    fun saudacao() {\n",
    "        println(\"Olá, meu nome é $nome e eu tenho $idade anos.\") // Olá, meu nome é Maria e eu tenho 30 anos.\n",
    "    }\n",
    "}\n",
    "\n",
    "fun main() {\n",
    "    val pessoa = Pessoa(\"Maria\", 30)\n",
    "}"
   ],
   "metadata": {
    "collapsed": false
   }
  },
  {
   "cell_type": "markdown",
   "source": [
    "Inicializando pessoa com nome Maria e idade 30\n",
    "Olá, meu nome é Maria e eu tenho 30 anos."
   ],
   "metadata": {
    "collapsed": false
   }
  },
  {
   "cell_type": "markdown",
   "source": [
    "3. Pode haver vários blocos init: Você pode ter vários blocos init em uma classe, e eles serão executados na ordem em que são definidos na classe."
   ],
   "metadata": {
    "collapsed": false
   }
  },
  {
   "cell_type": "code",
   "outputs": [],
   "source": [
    "class ExemploClasse(val valor: Int) {\n",
    "    init {\n",
    "        println(\"Inicializando primeira parte...\") // Primeiro bloco init\n",
    "    }\n",
    "\n",
    "    init {\n",
    "        println(\"Inicializando segunda parte...\") // Segundo bloco init\n",
    "    }\n",
    "\n",
    "    init {\n",
    "        println(\"Inicializando terceira parte...\") // Terceiro bloco init\n",
    "        println(\"O valor é: $valor\") // Imprime o valor passado como argumento\n",
    "    }\n",
    "}\n",
    "\n",
    "fun main() {\n",
    "    val exemplo = ExemploClasse(5) // Cria uma instância da classe ExemploClasse com valor 5\n",
    "}"
   ],
   "metadata": {
    "collapsed": false
   }
  },
  {
   "cell_type": "markdown",
   "source": [
    "Inicializando primeira parte...\n",
    "Inicializando segunda parte...\n",
    "Inicializando terceira parte...\n",
    "O valor é: 5"
   ],
   "metadata": {
    "collapsed": false
   }
  },
  {
   "cell_type": "markdown",
   "source": [
    "4. Ordem de execução: Os blocos init são executados na ordem em que são definidos na classe, antes de qualquer construtor secundário e antes de qualquer código dentro do corpo do construtor primário."
   ],
   "metadata": {
    "collapsed": false
   }
  },
  {
   "cell_type": "markdown",
   "source": [
    "5. Flexibilidade de inicialização: O bloco init permite uma grande flexibilidade na inicialização de objetos. Você pode usar lógica condicional, loops e quaisquer outras operações permitidas em Kotlin dentro do bloco init"
   ],
   "metadata": {
    "collapsed": false
   }
  },
  {
   "cell_type": "code",
   "outputs": [],
   "source": [
    "class Carro(val marca: String, val anoFabricacao: Int) {\n",
    "    val idade: Int\n",
    "\n",
    "    init {\n",
    "        val anoAtual = 2024 // Suponha que seja o ano atual\n",
    "        idade = anoAtual - anoFabricacao\n",
    "\n",
    "        if (idade <= 5) {\n",
    "            println(\"$marca é um carro novo.\")\n",
    "        } else {\n",
    "            println(\"$marca é um carro usado.\")\n",
    "        }\n",
    "    }\n",
    "}\n",
    "\n",
    "fun main() {\n",
    "    val carroNovo = Carro(\"Toyota\", 2022)\n",
    "    val carroUsado = Carro(\"Ford\", 2017)\n",
    "}"
   ],
   "metadata": {
    "collapsed": false
   }
  },
  {
   "cell_type": "markdown",
   "source": [
    "Toyota é um carro novo.\n",
    "Ford é um carro usado."
   ],
   "metadata": {
    "collapsed": false
   }
  },
  {
   "cell_type": "markdown",
   "source": [
    "6. Melhora a legibilidade do código: Usar o bloco init pode tornar o código mais legível, especialmente quando há uma lógica complexa de inicialização que precisa ser realizada."
   ],
   "metadata": {
    "collapsed": false
   }
  },
  {
   "cell_type": "code",
   "outputs": [],
   "source": [
    "class ExemploClasse(val valor: Int) { // Define a classe ExemploClasse com uma propriedade 'valor'\n",
    "    val mensagem: String // Declara uma propriedade 'mensagem'\n",
    "\n",
    "    init {\n",
    "        println(\"Inicializando primeira parte...\") // Mensagem de inicialização para o primeiro bloco init\n",
    "\n",
    "\t//Acesso a propriedade da classe\n",
    "        mensagem = if (valor > 0) { // Verifica se o valor passado é positivo\n",
    "            \"Valor positivo\"\n",
    "        } else {\n",
    "            \"Valor não positivo\"\n",
    "        }\n",
    "\n",
    "\t//Acesso a método da classe\n",
    "        mostrarMensagem() // Mensagem: Valor positivo\n",
    "    }\n",
    "\n",
    "\t//Existência de vários blocos init.\n",
    "    init {\n",
    "        println(\"Inicializando segunda parte...\") // Mensagem de inicialização para o segundo bloco init\n",
    "        println(\"O valor é: $valor\") // O valor é: 5\n",
    "    }\n",
    "\n",
    "    fun mostrarMensagem() { // Define um método na classe para mostrar a mensagem\n",
    "        println(\"Mensagem: $mensagem\") // Imprime a mensagem\n",
    "    }\n",
    "}\n",
    "\n",
    "fun main() {\n",
    "    val exemplo = ExemploClasse(5) // Cria uma instância da classe ExemploClasse com valor 5\n",
    "}\n"
   ],
   "metadata": {
    "collapsed": false
   }
  }
 ],
 "metadata": {
  "kernelspec": {
   "display_name": "Kotlin",
   "language": "kotlin",
   "name": "kotlin"
  },
  "language_info": {
   "name": "kotlin",
   "version": "1.9.0",
   "mimetype": "text/x-kotlin",
   "file_extension": ".kt",
   "pygments_lexer": "kotlin",
   "codemirror_mode": "text/x-kotlin",
   "nbconvert_exporter": ""
  }
 },
 "nbformat": 4,
 "nbformat_minor": 0
}
